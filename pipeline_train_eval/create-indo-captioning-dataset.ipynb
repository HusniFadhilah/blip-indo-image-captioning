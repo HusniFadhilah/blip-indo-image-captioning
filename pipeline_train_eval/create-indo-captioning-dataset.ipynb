{
 "cells": [
  {
   "cell_type": "code",
   "execution_count": 1,
   "id": "77e8fae0",
   "metadata": {
    "_cell_guid": "b1076dfc-b9ad-4769-8c92-a6c4dae69d19",
    "_uuid": "8f2839f25d086af736a60e9eeb907d3b93b6e0e5",
    "collapsed": true,
    "execution": {
     "iopub.execute_input": "2025-03-16T18:08:15.648353Z",
     "iopub.status.busy": "2025-03-16T18:08:15.648005Z",
     "iopub.status.idle": "2025-03-16T18:08:22.516914Z",
     "shell.execute_reply": "2025-03-16T18:08:22.515559Z"
    },
    "jupyter": {
     "outputs_hidden": true
    },
    "papermill": {
     "duration": 6.875231,
     "end_time": "2025-03-16T18:08:22.519044",
     "exception": false,
     "start_time": "2025-03-16T18:08:15.643813",
     "status": "completed"
    },
    "tags": []
   },
   "outputs": [
    {
     "name": "stdout",
     "output_type": "stream",
     "text": [
      "Collecting deep-translator\r\n",
      "  Downloading deep_translator-1.11.4-py3-none-any.whl.metadata (30 kB)\r\n",
      "Requirement already satisfied: beautifulsoup4<5.0.0,>=4.9.1 in /usr/local/lib/python3.10/dist-packages (from deep-translator) (4.12.3)\r\n",
      "Requirement already satisfied: requests<3.0.0,>=2.23.0 in /usr/local/lib/python3.10/dist-packages (from deep-translator) (2.32.3)\r\n",
      "Requirement already satisfied: soupsieve>1.2 in /usr/local/lib/python3.10/dist-packages (from beautifulsoup4<5.0.0,>=4.9.1->deep-translator) (2.6)\r\n",
      "Requirement already satisfied: charset-normalizer<4,>=2 in /usr/local/lib/python3.10/dist-packages (from requests<3.0.0,>=2.23.0->deep-translator) (3.4.1)\r\n",
      "Requirement already satisfied: idna<4,>=2.5 in /usr/local/lib/python3.10/dist-packages (from requests<3.0.0,>=2.23.0->deep-translator) (3.10)\r\n",
      "Requirement already satisfied: urllib3<3,>=1.21.1 in /usr/local/lib/python3.10/dist-packages (from requests<3.0.0,>=2.23.0->deep-translator) (2.3.0)\r\n",
      "Requirement already satisfied: certifi>=2017.4.17 in /usr/local/lib/python3.10/dist-packages (from requests<3.0.0,>=2.23.0->deep-translator) (2025.1.31)\r\n",
      "Downloading deep_translator-1.11.4-py3-none-any.whl (42 kB)\r\n",
      "\u001b[2K   \u001b[90m━━━━━━━━━━━━━━━━━━━━━━━━━━━━━━━━━━━━━━━━\u001b[0m \u001b[32m42.3/42.3 kB\u001b[0m \u001b[31m1.1 MB/s\u001b[0m eta \u001b[36m0:00:00\u001b[0m\r\n",
      "\u001b[?25hInstalling collected packages: deep-translator\r\n",
      "Successfully installed deep-translator-1.11.4\r\n"
     ]
    }
   ],
   "source": [
    "!pip install -U deep-translator"
   ]
  },
  {
   "cell_type": "code",
   "execution_count": 2,
   "id": "6729681f",
   "metadata": {
    "execution": {
     "iopub.execute_input": "2025-03-16T18:08:22.527465Z",
     "iopub.status.busy": "2025-03-16T18:08:22.527057Z",
     "iopub.status.idle": "2025-03-16T18:08:32.404713Z",
     "shell.execute_reply": "2025-03-16T18:08:32.403431Z"
    },
    "papermill": {
     "duration": 9.884007,
     "end_time": "2025-03-16T18:08:32.406741",
     "exception": false,
     "start_time": "2025-03-16T18:08:22.522734",
     "status": "completed"
    },
    "tags": []
   },
   "outputs": [],
   "source": [
    "# Data handling and manipulation\n",
    "import os,textwrap\n",
    "import shutil\n",
    "import json\n",
    "import io as input_output\n",
    "import pandas as pd\n",
    "import numpy as np\n",
    "import torch\n",
    "import random\n",
    "import datasets\n",
    "from deep_translator import GoogleTranslator\n",
    "from PIL import Image, UnidentifiedImageError\n",
    "from concurrent.futures import ThreadPoolExecutor\n",
    "from sklearn.model_selection import train_test_split"
   ]
  },
  {
   "cell_type": "code",
   "execution_count": 3,
   "id": "db5da212",
   "metadata": {
    "execution": {
     "iopub.execute_input": "2025-03-16T18:08:32.416785Z",
     "iopub.status.busy": "2025-03-16T18:08:32.416099Z",
     "iopub.status.idle": "2025-03-16T18:08:32.420902Z",
     "shell.execute_reply": "2025-03-16T18:08:32.420010Z"
    },
    "papermill": {
     "duration": 0.010883,
     "end_time": "2025-03-16T18:08:32.422623",
     "exception": false,
     "start_time": "2025-03-16T18:08:32.411740",
     "status": "completed"
    },
    "tags": []
   },
   "outputs": [],
   "source": [
    "is_apply_enhancement = False\n",
    "is_translate = True\n",
    "str_filter = None #'chest x-ray'\n",
    "is_verify_image = False\n",
    "data_dir = f'/kaggle/input/flickr30k/'\n",
    "IMG_DIR = f'{data_dir}flickr30k_images'"
   ]
  },
  {
   "cell_type": "code",
   "execution_count": 4,
   "id": "6a4ffeba",
   "metadata": {
    "execution": {
     "iopub.execute_input": "2025-03-16T18:08:32.430149Z",
     "iopub.status.busy": "2025-03-16T18:08:32.429794Z",
     "iopub.status.idle": "2025-03-16T18:08:33.056067Z",
     "shell.execute_reply": "2025-03-16T18:08:33.054985Z"
    },
    "papermill": {
     "duration": 0.631726,
     "end_time": "2025-03-16T18:08:33.057607",
     "exception": false,
     "start_time": "2025-03-16T18:08:32.425881",
     "status": "completed"
    },
    "tags": []
   },
   "outputs": [
    {
     "name": "stdout",
     "output_type": "stream",
     "text": [
      "127132 15891 15892\n"
     ]
    },
    {
     "data": {
      "text/html": [
       "<div>\n",
       "<style scoped>\n",
       "    .dataframe tbody tr th:only-of-type {\n",
       "        vertical-align: middle;\n",
       "    }\n",
       "\n",
       "    .dataframe tbody tr th {\n",
       "        vertical-align: top;\n",
       "    }\n",
       "\n",
       "    .dataframe thead th {\n",
       "        text-align: right;\n",
       "    }\n",
       "</style>\n",
       "<table border=\"1\" class=\"dataframe\">\n",
       "  <thead>\n",
       "    <tr style=\"text-align: right;\">\n",
       "      <th></th>\n",
       "      <th>Images</th>\n",
       "      <th>Caption</th>\n",
       "    </tr>\n",
       "  </thead>\n",
       "  <tbody>\n",
       "    <tr>\n",
       "      <th>0</th>\n",
       "      <td>1000092795.jpg</td>\n",
       "      <td>Two young guys with shaggy hair look at their ...</td>\n",
       "    </tr>\n",
       "    <tr>\n",
       "      <th>1</th>\n",
       "      <td>1000092795.jpg</td>\n",
       "      <td>Two young  White males are outside near many b...</td>\n",
       "    </tr>\n",
       "    <tr>\n",
       "      <th>2</th>\n",
       "      <td>1000092795.jpg</td>\n",
       "      <td>Two men in green shirts are standing in a yard</td>\n",
       "    </tr>\n",
       "    <tr>\n",
       "      <th>3</th>\n",
       "      <td>1000092795.jpg</td>\n",
       "      <td>A man in a blue shirt standing in a garden</td>\n",
       "    </tr>\n",
       "    <tr>\n",
       "      <th>4</th>\n",
       "      <td>1000092795.jpg</td>\n",
       "      <td>Two friends enjoy time spent together</td>\n",
       "    </tr>\n",
       "    <tr>\n",
       "      <th>...</th>\n",
       "      <td>...</td>\n",
       "      <td>...</td>\n",
       "    </tr>\n",
       "    <tr>\n",
       "      <th>158910</th>\n",
       "      <td>998845445.jpg</td>\n",
       "      <td>A man in shorts and a Hawaiian shirt leans ove...</td>\n",
       "    </tr>\n",
       "    <tr>\n",
       "      <th>158911</th>\n",
       "      <td>998845445.jpg</td>\n",
       "      <td>A young man hanging over the side of a boat  w...</td>\n",
       "    </tr>\n",
       "    <tr>\n",
       "      <th>158912</th>\n",
       "      <td>998845445.jpg</td>\n",
       "      <td>A man is leaning off of the side of a blue and...</td>\n",
       "    </tr>\n",
       "    <tr>\n",
       "      <th>158913</th>\n",
       "      <td>998845445.jpg</td>\n",
       "      <td>A man riding a small boat in a harbor  with fo...</td>\n",
       "    </tr>\n",
       "    <tr>\n",
       "      <th>158914</th>\n",
       "      <td>998845445.jpg</td>\n",
       "      <td>A man on a moored blue and white boat with hil...</td>\n",
       "    </tr>\n",
       "  </tbody>\n",
       "</table>\n",
       "<p>158915 rows × 2 columns</p>\n",
       "</div>"
      ],
      "text/plain": [
       "                Images                                            Caption\n",
       "0       1000092795.jpg  Two young guys with shaggy hair look at their ...\n",
       "1       1000092795.jpg  Two young  White males are outside near many b...\n",
       "2       1000092795.jpg    Two men in green shirts are standing in a yard \n",
       "3       1000092795.jpg        A man in a blue shirt standing in a garden \n",
       "4       1000092795.jpg             Two friends enjoy time spent together \n",
       "...                ...                                                ...\n",
       "158910   998845445.jpg  A man in shorts and a Hawaiian shirt leans ove...\n",
       "158911   998845445.jpg  A young man hanging over the side of a boat  w...\n",
       "158912   998845445.jpg  A man is leaning off of the side of a blue and...\n",
       "158913   998845445.jpg  A man riding a small boat in a harbor  with fo...\n",
       "158914   998845445.jpg  A man on a moored blue and white boat with hil...\n",
       "\n",
       "[158915 rows x 2 columns]"
      ]
     },
     "execution_count": 4,
     "metadata": {},
     "output_type": "execute_result"
    }
   ],
   "source": [
    "# Pertama, pisahkan menjadi train dan test\n",
    "df = pd.read_csv('/kaggle/input/flickr30k/captions.txt')\n",
    "df = df[['image_name', 'comment']]\n",
    "df.columns = ['Images', 'Caption']\n",
    "df['Caption'] = df['Caption'].apply(lambda x: x.rstrip('.') if x.endswith('.') else x)\n",
    "df_train, df_temp = train_test_split(df, test_size=0.2, random_state=42)\n",
    "\n",
    "# Kemudian, pisahkan temp_df menjadi validation dan testing\n",
    "df_val, df_test = train_test_split(df_temp, test_size=0.5, random_state=42)\n",
    "df_train = df_train.reset_index(drop=True)\n",
    "df_val = df_val.reset_index(drop=True)\n",
    "df_test = df_test.reset_index(drop=True)\n",
    "print(len(df_train),len(df_val),len(df_test))\n",
    "df"
   ]
  },
  {
   "cell_type": "code",
   "execution_count": 5,
   "id": "d1ca1559",
   "metadata": {
    "execution": {
     "iopub.execute_input": "2025-03-16T18:08:33.065328Z",
     "iopub.status.busy": "2025-03-16T18:08:33.065007Z",
     "iopub.status.idle": "2025-03-17T05:10:11.217287Z",
     "shell.execute_reply": "2025-03-17T05:10:11.216079Z"
    },
    "papermill": {
     "duration": 39698.158284,
     "end_time": "2025-03-17T05:10:11.219183",
     "exception": false,
     "start_time": "2025-03-16T18:08:33.060899",
     "status": "completed"
    },
    "tags": []
   },
   "outputs": [
    {
     "name": "stdout",
     "output_type": "stream",
     "text": [
      "Error translating caption: Response ended prematurely\n"
     ]
    }
   ],
   "source": [
    "def verify_image(image_path):\n",
    "    try:\n",
    "        Image.open(image_path).verify()\n",
    "        return True\n",
    "    except UnidentifiedImageError:\n",
    "        print(f\"Error: The file at {image_path} is not a valid image.\")\n",
    "        return False\n",
    "    except FileNotFoundError:\n",
    "        print(f\"Error: The file at {image_path} was not found.\")\n",
    "        return False\n",
    "    except Exception as e:\n",
    "        print(f\"An unexpected error occurred: {e}\")\n",
    "        return False\n",
    "\n",
    "# Fungsi untuk menerjemahkan caption\n",
    "def translate_caption(caption):\n",
    "    try:\n",
    "        translated = GoogleTranslator(source='auto', target='id').translate(caption)\n",
    "        return translated\n",
    "    except Exception as e:\n",
    "        print(f\"Error translating caption: {e}\")\n",
    "        return caption\n",
    "\n",
    "# Fungsi untuk menerjemahkan caption secara paralel\n",
    "def translate_caption_parallel(captions):\n",
    "    with ThreadPoolExecutor(max_workers=4) as executor:  # Menyesuaikan jumlah worker sesuai kebutuhan\n",
    "        translated = list(executor.map(translate_caption, captions))\n",
    "    return translated\n",
    "\n",
    "def preprocess_dataset(df,dataset_name,is_translate=False, str_filter=None):\n",
    "#     df = df.sample(n=5, random_state=42).reset_index(drop=True)\n",
    "    # df = df.sample(frac=0.0003, random_state=42).reset_index(drop=True)\n",
    "    if str_filter is None:\n",
    "        df = df.copy()\n",
    "    else:\n",
    "        mask = df['Caption'].str.contains(str_filter, case=False)\n",
    "        df = df[mask].copy()\n",
    "    if is_translate:\n",
    "        df['Caption'] = translate_caption_parallel(df['Caption'])\n",
    "        # df['Caption'] = df['Caption'].apply(translate_caption)\n",
    "    df['Path'] = df['Images'].apply(lambda x: f\"{IMG_DIR}/{x}\")\n",
    "    if is_verify_image:\n",
    "        df = df[df['Path'].apply(lambda x: os.path.exists(x) and verify_image(x))]\n",
    "    df.to_csv(f'{dataset_name}_data.csv', index=False)\n",
    "    return df\n",
    "\n",
    "df_train = preprocess_dataset(df_train, 'train', is_translate, str_filter)\n",
    "df_val = preprocess_dataset(df_val, 'val', is_translate, str_filter)\n",
    "df_test = preprocess_dataset(df_test, 'test', is_translate, str_filter)"
   ]
  },
  {
   "cell_type": "code",
   "execution_count": 6,
   "id": "30cbc09d",
   "metadata": {
    "execution": {
     "iopub.execute_input": "2025-03-17T05:10:11.226964Z",
     "iopub.status.busy": "2025-03-17T05:10:11.226645Z",
     "iopub.status.idle": "2025-03-17T05:10:11.237225Z",
     "shell.execute_reply": "2025-03-17T05:10:11.236361Z"
    },
    "papermill": {
     "duration": 0.015995,
     "end_time": "2025-03-17T05:10:11.238818",
     "exception": false,
     "start_time": "2025-03-17T05:10:11.222823",
     "status": "completed"
    },
    "tags": []
   },
   "outputs": [
    {
     "name": "stdout",
     "output_type": "stream",
     "text": [
      "127132 15891 15892\n"
     ]
    },
    {
     "data": {
      "text/html": [
       "<div>\n",
       "<style scoped>\n",
       "    .dataframe tbody tr th:only-of-type {\n",
       "        vertical-align: middle;\n",
       "    }\n",
       "\n",
       "    .dataframe tbody tr th {\n",
       "        vertical-align: top;\n",
       "    }\n",
       "\n",
       "    .dataframe thead th {\n",
       "        text-align: right;\n",
       "    }\n",
       "</style>\n",
       "<table border=\"1\" class=\"dataframe\">\n",
       "  <thead>\n",
       "    <tr style=\"text-align: right;\">\n",
       "      <th></th>\n",
       "      <th>Images</th>\n",
       "      <th>Caption</th>\n",
       "      <th>Path</th>\n",
       "    </tr>\n",
       "  </thead>\n",
       "  <tbody>\n",
       "    <tr>\n",
       "      <th>0</th>\n",
       "      <td>3773310720.jpg</td>\n",
       "      <td>Seorang pria dengan warna coklat membangun rakit</td>\n",
       "      <td>/kaggle/input/flickr30k/flickr30k_images/37733...</td>\n",
       "    </tr>\n",
       "    <tr>\n",
       "      <th>1</th>\n",
       "      <td>4524418308.jpg</td>\n",
       "      <td>Sekelompok orang berkumpul di sekitar meja bun...</td>\n",
       "      <td>/kaggle/input/flickr30k/flickr30k_images/45244...</td>\n",
       "    </tr>\n",
       "    <tr>\n",
       "      <th>2</th>\n",
       "      <td>2904997007.jpg</td>\n",
       "      <td>Seorang anak laki -laki kecil melompat dari te...</td>\n",
       "      <td>/kaggle/input/flickr30k/flickr30k_images/29049...</td>\n",
       "    </tr>\n",
       "    <tr>\n",
       "      <th>3</th>\n",
       "      <td>4604410267.jpg</td>\n",
       "      <td>Seorang wanita di ponselnya berjalan di taman</td>\n",
       "      <td>/kaggle/input/flickr30k/flickr30k_images/46044...</td>\n",
       "    </tr>\n",
       "    <tr>\n",
       "      <th>4</th>\n",
       "      <td>2219959872.jpg</td>\n",
       "      <td>Seorang pria dan dua anak berdiri di depan ged...</td>\n",
       "      <td>/kaggle/input/flickr30k/flickr30k_images/22199...</td>\n",
       "    </tr>\n",
       "  </tbody>\n",
       "</table>\n",
       "</div>"
      ],
      "text/plain": [
       "           Images                                            Caption  \\\n",
       "0  3773310720.jpg   Seorang pria dengan warna coklat membangun rakit   \n",
       "1  4524418308.jpg  Sekelompok orang berkumpul di sekitar meja bun...   \n",
       "2  2904997007.jpg  Seorang anak laki -laki kecil melompat dari te...   \n",
       "3  4604410267.jpg      Seorang wanita di ponselnya berjalan di taman   \n",
       "4  2219959872.jpg  Seorang pria dan dua anak berdiri di depan ged...   \n",
       "\n",
       "                                                Path  \n",
       "0  /kaggle/input/flickr30k/flickr30k_images/37733...  \n",
       "1  /kaggle/input/flickr30k/flickr30k_images/45244...  \n",
       "2  /kaggle/input/flickr30k/flickr30k_images/29049...  \n",
       "3  /kaggle/input/flickr30k/flickr30k_images/46044...  \n",
       "4  /kaggle/input/flickr30k/flickr30k_images/22199...  "
      ]
     },
     "execution_count": 6,
     "metadata": {},
     "output_type": "execute_result"
    }
   ],
   "source": [
    "print(len(df_train),len(df_val),len(df_test))\n",
    "df_train.head()"
   ]
  },
  {
   "cell_type": "code",
   "execution_count": 7,
   "id": "9416ddf2",
   "metadata": {
    "execution": {
     "iopub.execute_input": "2025-03-17T05:10:11.246684Z",
     "iopub.status.busy": "2025-03-17T05:10:11.246359Z",
     "iopub.status.idle": "2025-03-17T05:10:11.254826Z",
     "shell.execute_reply": "2025-03-17T05:10:11.253888Z"
    },
    "papermill": {
     "duration": 0.013963,
     "end_time": "2025-03-17T05:10:11.256242",
     "exception": false,
     "start_time": "2025-03-17T05:10:11.242279",
     "status": "completed"
    },
    "tags": []
   },
   "outputs": [
    {
     "data": {
      "text/html": [
       "<div>\n",
       "<style scoped>\n",
       "    .dataframe tbody tr th:only-of-type {\n",
       "        vertical-align: middle;\n",
       "    }\n",
       "\n",
       "    .dataframe tbody tr th {\n",
       "        vertical-align: top;\n",
       "    }\n",
       "\n",
       "    .dataframe thead th {\n",
       "        text-align: right;\n",
       "    }\n",
       "</style>\n",
       "<table border=\"1\" class=\"dataframe\">\n",
       "  <thead>\n",
       "    <tr style=\"text-align: right;\">\n",
       "      <th></th>\n",
       "      <th>Images</th>\n",
       "      <th>Caption</th>\n",
       "      <th>Path</th>\n",
       "    </tr>\n",
       "  </thead>\n",
       "  <tbody>\n",
       "    <tr>\n",
       "      <th>0</th>\n",
       "      <td>3413571342.jpg</td>\n",
       "      <td>Seorang pria dalam batang berwarna -warni menj...</td>\n",
       "      <td>/kaggle/input/flickr30k/flickr30k_images/34135...</td>\n",
       "    </tr>\n",
       "    <tr>\n",
       "      <th>1</th>\n",
       "      <td>2214403949.jpg</td>\n",
       "      <td>Seorang wanita bermain dengan seorang anak di ...</td>\n",
       "      <td>/kaggle/input/flickr30k/flickr30k_images/22144...</td>\n",
       "    </tr>\n",
       "    <tr>\n",
       "      <th>2</th>\n",
       "      <td>3173215794.jpg</td>\n",
       "      <td>Orang -orang menunggu dalam barisan restoran y...</td>\n",
       "      <td>/kaggle/input/flickr30k/flickr30k_images/31732...</td>\n",
       "    </tr>\n",
       "    <tr>\n",
       "      <th>3</th>\n",
       "      <td>3621095412.jpg</td>\n",
       "      <td>Enam orang dewasa muda satu memegang seekor an...</td>\n",
       "      <td>/kaggle/input/flickr30k/flickr30k_images/36210...</td>\n",
       "    </tr>\n",
       "    <tr>\n",
       "      <th>4</th>\n",
       "      <td>4439092536.jpg</td>\n",
       "      <td>Seseorang yang mengenakan jaket biru dan topi ...</td>\n",
       "      <td>/kaggle/input/flickr30k/flickr30k_images/44390...</td>\n",
       "    </tr>\n",
       "  </tbody>\n",
       "</table>\n",
       "</div>"
      ],
      "text/plain": [
       "           Images                                            Caption  \\\n",
       "0  3413571342.jpg  Seorang pria dalam batang berwarna -warni menj...   \n",
       "1  2214403949.jpg  Seorang wanita bermain dengan seorang anak di ...   \n",
       "2  3173215794.jpg  Orang -orang menunggu dalam barisan restoran y...   \n",
       "3  3621095412.jpg  Enam orang dewasa muda satu memegang seekor an...   \n",
       "4  4439092536.jpg  Seseorang yang mengenakan jaket biru dan topi ...   \n",
       "\n",
       "                                                Path  \n",
       "0  /kaggle/input/flickr30k/flickr30k_images/34135...  \n",
       "1  /kaggle/input/flickr30k/flickr30k_images/22144...  \n",
       "2  /kaggle/input/flickr30k/flickr30k_images/31732...  \n",
       "3  /kaggle/input/flickr30k/flickr30k_images/36210...  \n",
       "4  /kaggle/input/flickr30k/flickr30k_images/44390...  "
      ]
     },
     "execution_count": 7,
     "metadata": {},
     "output_type": "execute_result"
    }
   ],
   "source": [
    "df_val.head()"
   ]
  },
  {
   "cell_type": "code",
   "execution_count": 8,
   "id": "cf40e609",
   "metadata": {
    "execution": {
     "iopub.execute_input": "2025-03-17T05:10:11.264700Z",
     "iopub.status.busy": "2025-03-17T05:10:11.264377Z",
     "iopub.status.idle": "2025-03-17T05:10:11.273097Z",
     "shell.execute_reply": "2025-03-17T05:10:11.272086Z"
    },
    "papermill": {
     "duration": 0.014584,
     "end_time": "2025-03-17T05:10:11.274687",
     "exception": false,
     "start_time": "2025-03-17T05:10:11.260103",
     "status": "completed"
    },
    "tags": []
   },
   "outputs": [
    {
     "data": {
      "text/html": [
       "<div>\n",
       "<style scoped>\n",
       "    .dataframe tbody tr th:only-of-type {\n",
       "        vertical-align: middle;\n",
       "    }\n",
       "\n",
       "    .dataframe tbody tr th {\n",
       "        vertical-align: top;\n",
       "    }\n",
       "\n",
       "    .dataframe thead th {\n",
       "        text-align: right;\n",
       "    }\n",
       "</style>\n",
       "<table border=\"1\" class=\"dataframe\">\n",
       "  <thead>\n",
       "    <tr style=\"text-align: right;\">\n",
       "      <th></th>\n",
       "      <th>Images</th>\n",
       "      <th>Caption</th>\n",
       "      <th>Path</th>\n",
       "    </tr>\n",
       "  </thead>\n",
       "  <tbody>\n",
       "    <tr>\n",
       "      <th>0</th>\n",
       "      <td>1989609.jpg</td>\n",
       "      <td>Seorang pria dengan kumis bekerja di eskalator...</td>\n",
       "      <td>/kaggle/input/flickr30k/flickr30k_images/19896...</td>\n",
       "    </tr>\n",
       "    <tr>\n",
       "      <th>1</th>\n",
       "      <td>2192131110.jpg</td>\n",
       "      <td>Gadis ini bersenang -senang di ayunan!</td>\n",
       "      <td>/kaggle/input/flickr30k/flickr30k_images/21921...</td>\n",
       "    </tr>\n",
       "    <tr>\n",
       "      <th>2</th>\n",
       "      <td>47871819.jpg</td>\n",
       "      <td>Gadis -gadis bermain sepak bola</td>\n",
       "      <td>/kaggle/input/flickr30k/flickr30k_images/47871...</td>\n",
       "    </tr>\n",
       "    <tr>\n",
       "      <th>3</th>\n",
       "      <td>4558172302.jpg</td>\n",
       "      <td>Seorang pria dan wanita yang berdiri di atas g...</td>\n",
       "      <td>/kaggle/input/flickr30k/flickr30k_images/45581...</td>\n",
       "    </tr>\n",
       "    <tr>\n",
       "      <th>4</th>\n",
       "      <td>2716744948.jpg</td>\n",
       "      <td>Seorang pria tanpa kemeja duduk di atas batu d...</td>\n",
       "      <td>/kaggle/input/flickr30k/flickr30k_images/27167...</td>\n",
       "    </tr>\n",
       "  </tbody>\n",
       "</table>\n",
       "</div>"
      ],
      "text/plain": [
       "           Images                                            Caption  \\\n",
       "0     1989609.jpg  Seorang pria dengan kumis bekerja di eskalator...   \n",
       "1  2192131110.jpg             Gadis ini bersenang -senang di ayunan!   \n",
       "2    47871819.jpg                    Gadis -gadis bermain sepak bola   \n",
       "3  4558172302.jpg  Seorang pria dan wanita yang berdiri di atas g...   \n",
       "4  2716744948.jpg  Seorang pria tanpa kemeja duduk di atas batu d...   \n",
       "\n",
       "                                                Path  \n",
       "0  /kaggle/input/flickr30k/flickr30k_images/19896...  \n",
       "1  /kaggle/input/flickr30k/flickr30k_images/21921...  \n",
       "2  /kaggle/input/flickr30k/flickr30k_images/47871...  \n",
       "3  /kaggle/input/flickr30k/flickr30k_images/45581...  \n",
       "4  /kaggle/input/flickr30k/flickr30k_images/27167...  "
      ]
     },
     "execution_count": 8,
     "metadata": {},
     "output_type": "execute_result"
    }
   ],
   "source": [
    "df_test.head()"
   ]
  },
  {
   "cell_type": "code",
   "execution_count": null,
   "id": "18467fb8",
   "metadata": {
    "papermill": {
     "duration": 0.003729,
     "end_time": "2025-03-17T05:10:11.282561",
     "exception": false,
     "start_time": "2025-03-17T05:10:11.278832",
     "status": "completed"
    },
    "tags": []
   },
   "outputs": [],
   "source": []
  }
 ],
 "metadata": {
  "kaggle": {
   "accelerator": "none",
   "dataSources": [
    {
     "datasetId": 2808179,
     "sourceId": 4845244,
     "sourceType": "datasetVersion"
    }
   ],
   "dockerImageVersionId": 30918,
   "isGpuEnabled": false,
   "isInternetEnabled": true,
   "language": "python",
   "sourceType": "notebook"
  },
  "kernelspec": {
   "display_name": "Python 3",
   "language": "python",
   "name": "python3"
  },
  "language_info": {
   "codemirror_mode": {
    "name": "ipython",
    "version": 3
   },
   "file_extension": ".py",
   "mimetype": "text/x-python",
   "name": "python",
   "nbconvert_exporter": "python",
   "pygments_lexer": "ipython3",
   "version": "3.10.12"
  },
  "papermill": {
   "default_parameters": {},
   "duration": 39721.675454,
   "end_time": "2025-03-17T05:10:14.321900",
   "environment_variables": {},
   "exception": null,
   "input_path": "__notebook__.ipynb",
   "output_path": "__notebook__.ipynb",
   "parameters": {},
   "start_time": "2025-03-16T18:08:12.646446",
   "version": "2.6.0"
  }
 },
 "nbformat": 4,
 "nbformat_minor": 5
}
